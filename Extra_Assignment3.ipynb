{
 "cells": [
  {
   "cell_type": "code",
   "execution_count": 4,
   "id": "901bd1de-4bf6-443c-99b3-468a57cd361c",
   "metadata": {},
   "outputs": [
    {
     "name": "stdin",
     "output_type": "stream",
     "text": [
      "enter the value  10\n"
     ]
    },
    {
     "name": "stdout",
     "output_type": "stream",
     "text": [
      "correct\n"
     ]
    }
   ],
   "source": [
    "value=int(input(\"enter the value \"));\n",
    "if(value==10):\n",
    "    print(\"correct\")"
   ]
  },
  {
   "cell_type": "code",
   "execution_count": null,
   "id": "25d6757a-0707-41da-8cbb-98475086851c",
   "metadata": {},
   "outputs": [],
   "source": [
    "#check the password, using if and else"
   ]
  },
  {
   "cell_type": "code",
   "execution_count": 6,
   "id": "ae5f8279-bc0a-475b-927c-9a152dcc0aba",
   "metadata": {},
   "outputs": [
    {
     "name": "stdin",
     "output_type": "stream",
     "text": [
      "enter the password HOPE@123\n"
     ]
    },
    {
     "name": "stdout",
     "output_type": "stream",
     "text": [
      "your PWD is correct\n"
     ]
    }
   ],
   "source": [
    "pwd = input(\"enter the password\");\n",
    "if(pwd == 'HOPE@123'):\n",
    "    print(\"your PWD is correct\");\n",
    "else:\n",
    "    print(\"your PWD is not correct\");"
   ]
  },
  {
   "cell_type": "code",
   "execution_count": null,
   "id": "3bdec524-d6cd-49f6-839c-6e84f53ee587",
   "metadata": {},
   "outputs": [],
   "source": [
    "#Category the people by their age like children, adult,citizen,senior citizen....."
   ]
  },
  {
   "cell_type": "code",
   "execution_count": 10,
   "id": "6fe59c83-248a-47b2-b994-e47a1f50495b",
   "metadata": {},
   "outputs": [
    {
     "name": "stdin",
     "output_type": "stream",
     "text": [
      "enter the age 55\n"
     ]
    },
    {
     "name": "stdout",
     "output_type": "stream",
     "text": [
      "Citizen\n"
     ]
    }
   ],
   "source": [
    "age=int(input(\"enter the age\"));\n",
    "if(age<=10):\n",
    "    print(\"child\");\n",
    "elif(age<=40):\n",
    "    print(\"adult\");\n",
    "elif(age<=60):\n",
    "    print(\"Citizen\");\n",
    "else:\n",
    "    print(\"senior citizen\");"
   ]
  },
  {
   "cell_type": "code",
   "execution_count": null,
   "id": "9c3f21ac-490b-41da-80ed-576be6b8cac9",
   "metadata": {},
   "outputs": [],
   "source": [
    "#Find whether given num is (+) or  (-)"
   ]
  },
  {
   "cell_type": "code",
   "execution_count": 13,
   "id": "b2f4873a-129d-4596-8d86-8b982131a7a1",
   "metadata": {},
   "outputs": [
    {
     "name": "stdin",
     "output_type": "stream",
     "text": [
      "enter the num -1\n"
     ]
    },
    {
     "name": "stdout",
     "output_type": "stream",
     "text": [
      "the gn num is negative\n"
     ]
    }
   ],
   "source": [
    "num=int(input(\"enter the num\"));\n",
    "if(num<0):\n",
    "    print(\"the gn num is negative\");\n",
    "else:\n",
    "     print(\"the gn num is positive\");"
   ]
  },
  {
   "cell_type": "code",
   "execution_count": null,
   "id": "c6319462-8975-42f0-8221-eed68e914ba8",
   "metadata": {},
   "outputs": [],
   "source": [
    "#check whether the given number is divisible by 5"
   ]
  },
  {
   "cell_type": "code",
   "execution_count": 14,
   "id": "76c494a1-d933-48bc-9c9a-ce20a9bca69d",
   "metadata": {},
   "outputs": [
    {
     "name": "stdin",
     "output_type": "stream",
     "text": [
      "enter the num 22\n"
     ]
    },
    {
     "name": "stdout",
     "output_type": "stream",
     "text": [
      "the num is not divided by 5\n"
     ]
    }
   ],
   "source": [
    "num=int(input(\"enter the num\"));\n",
    "if(num%5!=0):\n",
    "        print(\"the num is not divided by 5\");\n",
    "else:\n",
    "    print(\"the num is divided by 5\");\n"
   ]
  },
  {
   "cell_type": "code",
   "execution_count": null,
   "id": "c50296d4-7ecd-4bbc-85c0-3089929c97bc",
   "metadata": {},
   "outputs": [],
   "source": []
  }
 ],
 "metadata": {
  "kernelspec": {
   "display_name": "Python 3 (ipykernel)",
   "language": "python",
   "name": "python3"
  },
  "language_info": {
   "codemirror_mode": {
    "name": "ipython",
    "version": 3
   },
   "file_extension": ".py",
   "mimetype": "text/x-python",
   "name": "python",
   "nbconvert_exporter": "python",
   "pygments_lexer": "ipython3",
   "version": "3.13.5"
  }
 },
 "nbformat": 4,
 "nbformat_minor": 5
}
