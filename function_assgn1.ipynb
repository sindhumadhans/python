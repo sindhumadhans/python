{
 "cells": [
  {
   "cell_type": "code",
   "execution_count": 10,
   "id": "67084270-2734-42cf-87f8-b890e9257269",
   "metadata": {},
   "outputs": [
    {
     "name": "stdout",
     "output_type": "stream",
     "text": [
      "Machine Learning\n",
      "Neural Networks\n",
      "Vision\n",
      "Robotics\n",
      "speech processing\n",
      "natural language processing\n"
     ]
    }
   ],
   "source": [
    "class AI:\n",
    "    list = ['Machine Learning','Neural Networks','Vision','Robotics','speech processing','natural language processing']\n",
    "    def subfields(self):\n",
    "        for fields in self.list:\n",
    "            print(fields) \n",
    "subfieldsInAI=AI()\n",
    "subfieldsInAI.subfields()\n",
    "    \n",
    "    "
   ]
  },
  {
   "cell_type": "code",
   "execution_count": 18,
   "id": "baad7572-7f36-4a6a-91a9-ee17485072ac",
   "metadata": {},
   "outputs": [
    {
     "name": "stdin",
     "output_type": "stream",
     "text": [
      "enter any number 52452\n"
     ]
    },
    {
     "name": "stdout",
     "output_type": "stream",
     "text": [
      "even\n"
     ]
    }
   ],
   "source": [
    "def odd_even(number):\n",
    "    if(number%2==0):\n",
    "        return 'even'\n",
    "    else:\n",
    "        return 'odd'\n",
    "number=int(input('enter any number'))\n",
    "message=odd_even(number)\n",
    "print(message)   "
   ]
  },
  {
   "cell_type": "code",
   "execution_count": 24,
   "id": "2403512f-37f2-4165-b84d-9bae98919c1d",
   "metadata": {},
   "outputs": [
    {
     "name": "stdin",
     "output_type": "stream",
     "text": [
      "enter your gender female\n",
      "enter your age 20\n"
     ]
    },
    {
     "name": "stdout",
     "output_type": "stream",
     "text": [
      "not eligible to Marriage\n"
     ]
    }
   ],
   "source": [
    "class Marriage:\n",
    "    def Eligible(self,age):\n",
    "        if(age>=21):\n",
    "            print(\"Eligible to Marriage\")\n",
    "        else:\n",
    "            print(\"not eligible to Marriage\")\n",
    "gender=input('enter your gender')\n",
    "age=int(input('enter your age'))\n",
    "eligibilityformarriage=Marriage()\n",
    "eligibilityformarriage.Eligible(age)\n",
    "        "
   ]
  },
  {
   "cell_type": "code",
   "execution_count": 38,
   "id": "de2b2b03-cdf9-4308-aa8f-941751617e4d",
   "metadata": {},
   "outputs": [
    {
     "name": "stdin",
     "output_type": "stream",
     "text": [
      "Enter mark for Subject 1:  92\n",
      "Enter mark for Subject 2:  92\n",
      "Enter mark for Subject 3:  92\n",
      "Enter mark for Subject 4:  92\n",
      "Enter mark for Subject 5:  92\n"
     ]
    },
    {
     "name": "stdout",
     "output_type": "stream",
     "text": [
      "Total Marks: 460\n",
      "Percentage: 92.0\n"
     ]
    }
   ],
   "source": [
    "class Marks:\n",
    "    def __init__(self):\n",
    "        self.marks = []\n",
    "        for i in range(1, 6):\n",
    "            mark = int(input(f\"Enter mark for Subject {i}: \"))\n",
    "            self.marks.append(mark)\n",
    "    def percentage(self):\n",
    "        total = sum(self.marks)\n",
    "        percent =( total / 5)  \n",
    "        print(\"Total Marks:\", total)\n",
    "        print(\"Percentage:\", percent)\n",
    "findpercent = Marks()\n",
    "findpercent.percentage()\n"
   ]
  },
  {
   "cell_type": "code",
   "execution_count": 44,
   "id": "eaeb57c7-0974-438e-b5e3-f513e405fd63",
   "metadata": {},
   "outputs": [
    {
     "name": "stdin",
     "output_type": "stream",
     "text": [
      "enter the height 32\n",
      "enter breadth 34\n"
     ]
    },
    {
     "name": "stdout",
     "output_type": "stream",
     "text": [
      "area of triangle 544.0\n"
     ]
    },
    {
     "name": "stdin",
     "output_type": "stream",
     "text": [
      "enter the height1 2\n",
      "enter the height2 4\n",
      "enter breadth1 4\n"
     ]
    },
    {
     "name": "stdout",
     "output_type": "stream",
     "text": [
      "perimeter of triangle 10\n"
     ]
    }
   ],
   "source": [
    "class shapes:\n",
    "    def area_triangle(self):\n",
    "        height=int(input('enter the height'))\n",
    "        breadth=int(input('enter breadth'))\n",
    "        area=(height*breadth)/2\n",
    "        print(\"area of triangle\",area)\n",
    "\n",
    "    def perimeter_triangle(self):\n",
    "        height1=int(input('enter the height1'))\n",
    "        height2=int(input('enter the height2'))\n",
    "        breadth1=int(input('enter breadth1'))\n",
    "        perimeter=( height1+height2+breadth1)\n",
    "        print(\"perimeter of triangle\",perimeter)\n",
    "triangle=shapes()\n",
    "triangle.area_triangle()\n",
    "triangle.perimeter_triangle()"
   ]
  },
  {
   "cell_type": "code",
   "execution_count": null,
   "id": "9dc96fb6-7567-48e2-ab50-8712d62dc493",
   "metadata": {},
   "outputs": [],
   "source": []
  }
 ],
 "metadata": {
  "kernelspec": {
   "display_name": "Python 3 (ipykernel)",
   "language": "python",
   "name": "python3"
  },
  "language_info": {
   "codemirror_mode": {
    "name": "ipython",
    "version": 3
   },
   "file_extension": ".py",
   "mimetype": "text/x-python",
   "name": "python",
   "nbconvert_exporter": "python",
   "pygments_lexer": "ipython3",
   "version": "3.13.5"
  }
 },
 "nbformat": 4,
 "nbformat_minor": 5
}
